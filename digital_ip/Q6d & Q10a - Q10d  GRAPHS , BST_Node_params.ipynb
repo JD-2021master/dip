{
 "cells": [
  {
   "cell_type": "markdown",
   "metadata": {},
   "source": [
    "# BST Node-Wise Traversal"
   ]
  },
  {
   "cell_type": "markdown",
   "metadata": {},
   "source": [
    "## Finding the maximum depth or height of the BST"
   ]
  },
  {
   "cell_type": "code",
   "execution_count": 1,
   "metadata": {},
   "outputs": [
    {
     "name": "stdout",
     "output_type": "stream",
     "text": [
      "The maximum depth or height is: 4\n"
     ]
    }
   ],
   "source": [
    "class Node: \n",
    "    def __init__(self , val): \n",
    "        self.value = val  \n",
    "        self.left = None\n",
    "        self.right = None\n",
    "\n",
    "def maxDepth(root):\n",
    "\n",
    "    if root == None:\n",
    "        return 0\n",
    "\n",
    "\n",
    "    leftDepth = maxDepth(root.left)\n",
    "    rightDepth = maxDepth(root.right)\n",
    "\n",
    "\n",
    "    if leftDepth > rightDepth:\n",
    "        return leftDepth + 1\n",
    "    else:\n",
    "        return rightDepth + 1\n",
    "\n",
    "\n",
    "root = Node(1)\n",
    "root.left = Node(2)\n",
    "root.right = Node(3)\n",
    "root.left.left = Node(4)\n",
    "root.right.left = Node(5)\n",
    "root.right.right = Node(6)\n",
    "root.right.right.left = Node(8)\n",
    "root.right.left.right = Node(7)\n",
    "print(\"The maximum depth or height is:\", maxDepth(root))"
   ]
  },
  {
   "cell_type": "markdown",
   "metadata": {},
   "source": [
    "## Finding the subtree size"
   ]
  },
  {
   "cell_type": "code",
   "execution_count": 23,
   "metadata": {},
   "outputs": [],
   "source": [
    "class Tree:\n",
    "    def getSize(self):\n",
    "        if self.root:\n",
    "            return self.root.getSize()\n",
    "        else:\n",
    "            return 0\n",
    "        \n",
    "class Node:\n",
    "    def getSize(self):\n",
    "        if self.leftChild and self.rightChild:\n",
    "            return 1 + self.leftChild.getSize() + self.rightChild.getSize()\n",
    "        elif self.leftChild:\n",
    "            return 1 + self.leftChild.getSize()\n",
    "        elif self.rightChild:\n",
    "            return 1 + self.rightChild.getSize()\n",
    "        else:\n",
    "            return 1"
   ]
  },
  {
   "cell_type": "markdown",
   "metadata": {},
   "source": [
    "## Finding the ranks"
   ]
  },
  {
   "cell_type": "code",
   "execution_count": 12,
   "metadata": {},
   "outputs": [],
   "source": [
    "class Parent:\n",
    "    def getRank(self):\n",
    "        if self.root:\n",
    "            return self.root.getRank()\n",
    "        else:\n",
    "            return 1\n",
    "\n",
    "\n",
    "class Node:\n",
    "    def get_Loc_Rank(self):\n",
    "        if self.leftChild or self.rightChild:\n",
    "            return self.leftChild.getSize() + 1\n",
    "    def get_Base_Rank(self):\n",
    "        if self.leftChild:\n",
    "            return self.root.getRank()\n",
    "        elif self.rightChild:\n",
    "            return self.root.getRank() + self.root.get_Loc_Rank()\n",
    "    def get_Global_Rank(self):\n",
    "        return self.get_Base_Rank() - 1 + self.get_Loc_Rank()"
   ]
  },
  {
   "cell_type": "markdown",
   "metadata": {},
   "source": [
    "#  Graphs"
   ]
  },
  {
   "cell_type": "markdown",
   "metadata": {},
   "source": [
    "## Representation of graphs using Adjacency lists"
   ]
  },
  {
   "cell_type": "code",
   "execution_count": 20,
   "metadata": {},
   "outputs": [
    {
     "name": "stdout",
     "output_type": "stream",
     "text": [
      "A['B', 'E']\n",
      "B['A', 'F']\n",
      "C['G']\n",
      "D['E', 'H']\n",
      "E['A', 'D', 'H']\n",
      "F['B', 'G', 'I', 'J']\n",
      "G['C', 'F', 'J']\n",
      "H['D', 'E', 'I']\n",
      "I['F', 'H']\n",
      "J['F', 'G']\n"
     ]
    }
   ],
   "source": [
    "class Vertex:\n",
    "    def __init__(self, n):\n",
    "        self.name = n\n",
    "        self.neighbors = []\n",
    "\n",
    "    def add_neighbor(self, v):\n",
    "        if v not in self.neighbors:\n",
    "            self.neighbors.append((v))\n",
    "            self.neighbors.sort()\n",
    "\n",
    "class Graph:\n",
    "    vertices = {}\n",
    "\n",
    "    def add_vertex(self, vertex):\n",
    "        if isinstance(vertex, Vertex) and vertex.name not in self.vertices:\n",
    "            self.vertices[vertex.name] = vertex\n",
    "            return True\n",
    "        else:\n",
    "            return False\n",
    "\n",
    "    def add_edge(self, u, v):\n",
    "        if u in self.vertices and v in self.vertices:\n",
    "            self.vertices[u].add_neighbor(v)\n",
    "            self.vertices[v].add_neighbor(u)\n",
    "            return True\n",
    "        else:\n",
    "            return False\n",
    "\n",
    "    def print_graph(self):\n",
    "        for key in sorted(list(self.vertices.keys())):\n",
    "            print(key + str(self.vertices[key].neighbors))\n",
    "\n",
    "g = Graph()\n",
    "\n",
    "a = Vertex('A')\n",
    "g.add_vertex(a)\n",
    "g.add_vertex(Vertex('B'))\n",
    "for i in range(ord('A'), ord('K')):\n",
    "    g.add_vertex(Vertex(chr(i)))\n",
    "\n",
    "edges = ['AB', 'AE', 'BF', 'CG', 'DE', 'DH', 'EH', 'FG', 'FI', 'FJ', 'GJ', 'HI']\n",
    "for edge in edges:\n",
    "    g.add_edge(edge[:1], edge[1:])\n",
    "\n",
    "g.print_graph()"
   ]
  },
  {
   "cell_type": "markdown",
   "metadata": {},
   "source": [
    "## Representation of graphs using adjacency matrices"
   ]
  },
  {
   "cell_type": "code",
   "execution_count": 21,
   "metadata": {},
   "outputs": [
    {
     "name": "stdout",
     "output_type": "stream",
     "text": [
      "A 0100100000 \n",
      "B 1000010000 \n",
      "C 0000001000 \n",
      "D 0000100100 \n",
      "E 1001000100 \n",
      "F 0100001011 \n",
      "G 0010010001 \n",
      "H 0001100010 \n",
      "I 0000010100 \n",
      "J 0000011000 \n"
     ]
    }
   ],
   "source": [
    "class Vertex:\n",
    "    def __init__(self, n):\n",
    "        self.name = n\n",
    "\n",
    "class Graph:\n",
    "    vertices = {}\n",
    "    edges = []\n",
    "    edge_indices = {}\n",
    "\n",
    "    def add_vertex(self, vertex):\n",
    "        if isinstance(vertex, Vertex) and vertex.name not in self.vertices:\n",
    "            self.vertices[vertex.name] = vertex\n",
    "            for row in self.edges:\n",
    "                row.append(0)\n",
    "            self.edges.append([0] * (len(self.edges)+1))\n",
    "            self.edge_indices[vertex.name] = len(self.edge_indices)\n",
    "            return True\n",
    "        else:\n",
    "            return False\n",
    "isinstance()\n",
    "    def add_edge(self, u, v, weight=1):\n",
    "        if u in self.vertices and v in self.vertices:\n",
    "            self.edges[self.edge_indices[u]][self.edge_indices[v]] = weight\n",
    "            self.edges[self.edge_indices[v]][self.edge_indices[u]] = weight\n",
    "            return True\n",
    "        else:\n",
    "            return False\n",
    "\n",
    "    def print_graph(self):\n",
    "        for v, i in sorted(self.edge_indices.items()):\n",
    "            print(v + ' ', end='')\n",
    "            for j in range(len(self.edges)):\n",
    "                print(self.edges[i][j], end='')\n",
    "            print(' ')    \n",
    "\n",
    "g = Graph()\n",
    "\n",
    "a = Vertex('A')\n",
    "g.add_vertex(a)\n",
    "g.add_vertex(Vertex('B'))\n",
    "for i in range(ord('A'), ord('K')):\n",
    "    g.add_vertex(Vertex(chr(i)))\n",
    "\n",
    "edges = ['AB', 'AE', 'BF', 'CG', 'DE', 'DH', 'EH', 'FG', 'FI', 'FJ', 'GJ', 'HI']\n",
    "for edge in edges:\n",
    "    g.add_edge(edge[:1], edge[1:])\n",
    "\n",
    "g.print_graph()"
   ]
  },
  {
   "cell_type": "markdown",
   "metadata": {},
   "source": [
    "## Breath First Search (BFS)"
   ]
  },
  {
   "cell_type": "code",
   "execution_count": 19,
   "metadata": {},
   "outputs": [
    {
     "name": "stdout",
     "output_type": "stream",
     "text": [
      "A B E C F I G J K H D "
     ]
    }
   ],
   "source": [
    "graph = {'A' : ['B','E'],'B' : ['C', 'F'],'C' : [],'D' : [],'E' : ['I'],'F' : ['G'],'G' : ['J', 'K'],'H' : ['D'],'I' : [],\n",
    "         'J' : [],'K' : ['H']}\n",
    "\n",
    "visited = [] \n",
    "queue = []     \n",
    "\n",
    "def bfs(visited, graph, node):\n",
    "    visited.append(node)\n",
    "    queue.append(node)\n",
    "\n",
    "    while queue:\n",
    "        s = queue.pop(0) \n",
    "        print (s, end = \" \") \n",
    "\n",
    "        for neighbour in graph[s]:\n",
    "            if neighbour not in visited:\n",
    "                visited.append(neighbour)\n",
    "                queue.append(neighbour)\n",
    "\n",
    "\n",
    "bfs(visited, graph, 'A')"
   ]
  },
  {
   "cell_type": "markdown",
   "metadata": {},
   "source": [
    "## Depth First Search (DFS)"
   ]
  },
  {
   "cell_type": "code",
   "execution_count": 22,
   "metadata": {},
   "outputs": [
    {
     "name": "stdout",
     "output_type": "stream",
     "text": [
      "A\n",
      "B\n",
      "F\n",
      "G\n",
      "C\n",
      "J\n",
      "I\n",
      "H\n",
      "D\n",
      "E\n"
     ]
    }
   ],
   "source": [
    "graph = {'A' : ['B','E'],'B' : ['F'],'C' : [],'D' : ['E','H'],'E' : ['A','D','H'],'F' : ['B','G','I','J'],'G' : ['C','F','J'],\n",
    "        'H' : ['D','E','I'],'I' : ['F','H'],'J' : ['F','G','I']}\n",
    "\n",
    "visited = set() \n",
    "\n",
    "def dfs(visited, graph, node):\n",
    "    if node not in visited:\n",
    "        print (node)\n",
    "        visited.add(node)\n",
    "        for neighbour in graph[node]:\n",
    "            dfs(visited, graph, neighbour)\n",
    "\n",
    "dfs(visited, graph, 'A')"
   ]
  },
  {
   "cell_type": "markdown",
   "metadata": {},
   "source": [
    "# Applications"
   ]
  },
  {
   "cell_type": "markdown",
   "metadata": {},
   "source": [
    "## To find the shortest path between two nodes of a graph "
   ]
  },
  {
   "cell_type": "code",
   "execution_count": 14,
   "metadata": {},
   "outputs": [
    {
     "data": {
      "text/plain": [
       "[[[[[['A'], 'B'], 'F'], 'G'], 'K'], 'H']"
      ]
     },
     "execution_count": 14,
     "metadata": {},
     "output_type": "execute_result"
    }
   ],
   "source": [
    "from collections import deque\n",
    "\n",
    "graph = {'A' : ['B','E'],'B' : ['C', 'F'],'C' : [],'D' : [],'E' : ['I'],'F' : ['G'],'G' : ['J', 'K'],'H' : ['D'],'I' : [],\n",
    "         'J' : [],'K' : ['H']}\n",
    "\n",
    "def find_shortest_path(graph, start, end):\n",
    "    dist = {start: [start]}\n",
    "    q = deque(start)\n",
    "    while len(q):\n",
    "        at = q.popleft()\n",
    "        for next in graph[at]:\n",
    "            if next not in dist:\n",
    "                dist[next] = [dist[at], next]\n",
    "                q.append(next)\n",
    "    return dist.get(end)\n",
    "find_shortest_path(graph, 'A' , 'H')"
   ]
  }
 ],
 "metadata": {
  "kernelspec": {
   "display_name": "Python 3",
   "language": "python",
   "name": "python3"
  },
  "language_info": {
   "codemirror_mode": {
    "name": "ipython",
    "version": 3
   },
   "file_extension": ".py",
   "mimetype": "text/x-python",
   "name": "python",
   "nbconvert_exporter": "python",
   "pygments_lexer": "ipython3",
   "version": "3.8.3"
  }
 },
 "nbformat": 4,
 "nbformat_minor": 2
}

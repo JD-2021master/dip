{
 "cells": [
  {
   "cell_type": "code",
   "execution_count": 5,
   "metadata": {},
   "outputs": [
    {
     "name": "stdout",
     "output_type": "stream",
     "text": [
      "10\n"
     ]
    }
   ],
   "source": [
    "class Node:\n",
    "\n",
    "    def __init__(self, data):\n",
    "\n",
    "        self.left = None\n",
    "        self.right = None\n",
    "        self.data = data\n",
    "\n",
    "    def PrintTree(self):\n",
    "        print(self.data)\n",
    "\n",
    "root = Node(10)\n",
    "\n",
    "root.PrintTree()"
   ]
  },
  {
   "cell_type": "code",
   "execution_count": 10,
   "metadata": {},
   "outputs": [],
   "source": [
    "class Solution(object):\n",
    "    def splitBST(self, root, V):\n",
    "        if not root:\n",
    "            return None, None\n",
    "        elif root.val <= V:\n",
    "            bns = self.splitBST(root.right, V)\n",
    "            root.right = bns[0]\n",
    "            return root, bns[1]\n",
    "        else:\n",
    "            bns = self.splitBST(root.left, V)\n",
    "            root.left = bns[1]\n",
    "            return bns[0], root"
   ]
  },
  {
   "cell_type": "code",
   "execution_count": 11,
   "metadata": {},
   "outputs": [
    {
     "name": "stdout",
     "output_type": "stream",
     "text": [
      "Inorder traversal after insertion: 2 4 5 6 8 9 10 "
     ]
    }
   ],
   "source": [
    "class Tree: \n",
    "  \n",
    "    def __init__(node, value): \n",
    "        node.value = value  \n",
    "        node.left = None\n",
    "        node.right = None\n",
    "    \n",
    "    def Inorder( node, Root ): \n",
    "        if( Root is None ): \n",
    "            return\n",
    "        node.Inorder(Root.left) \n",
    "        print(Root.value,end = ' ') \n",
    "        node.Inorder(Root.right) \n",
    "  \n",
    "    def Insert(node, value): \n",
    "        if node is None: \n",
    "            node = Tree(value)\n",
    "        elif value < node.value:\n",
    "            if node.left is None:\n",
    "                node.left = Tree(value)\n",
    "            else:\n",
    "               node.left.Insert(value) \n",
    "        else:\n",
    "            if node.right is None:\n",
    "                node.right = Tree(value)\n",
    "            else:\n",
    "                node.right.Insert(value)\n",
    "Root = Tree(6) \n",
    "Root.Insert(4) \n",
    "Root.Insert(2) \n",
    "Root.Insert(5) \n",
    "Root.Insert(9) \n",
    "Root.Insert(8) \n",
    "Root.Insert( 10) \n",
    "\n",
    "print (\"Inorder traversal after insertion: \",end = '')\n",
    "Root.Inorder(Root)"
   ]
  },
  {
   "cell_type": "code",
   "execution_count": 12,
   "metadata": {},
   "outputs": [
    {
     "name": "stdout",
     "output_type": "stream",
     "text": [
      "Inorder traversal after insertion: 2 4 5 6 8 9 10 \n",
      " 2 is deleted: 4 5 6 8 9 10 \n",
      " 4 is deleted: 5 6 8 9 10 \n",
      " 6 is deleted: 5 8 9 10 "
     ]
    }
   ],
   "source": [
    "class Tree: \n",
    "  \n",
    "    def __init__(node, value): \n",
    "        node.value = value  \n",
    "        node.left = None\n",
    "        node.right = None\n",
    "    \n",
    "    def Inorder( node, Root ): \n",
    "        if( Root is None ): \n",
    "            return\n",
    "        node.Inorder(Root.left) \n",
    "        print(Root.value,end = ' ') \n",
    "        node.Inorder(Root.right) \n",
    "  \n",
    "    def Insert(node, value): \n",
    "        if node is None: \n",
    "            node = Tree(value)\n",
    "        elif value < node.value:\n",
    "            if node.left is None:\n",
    "                node.left = Tree(value)\n",
    "            else:\n",
    "               node.left.Insert(value) \n",
    "        else:\n",
    "            if node.right is None:\n",
    "                node.right = Tree(value)\n",
    "            else:\n",
    "                node.right.Insert(value)\n",
    "\n",
    "    def Delete(node,temp, value): \n",
    "        if value < node.value:\n",
    "            temp = node\n",
    "            node.left.Delete(temp,value)\n",
    "        elif(value > node.value):\n",
    "            temp = node\n",
    "            node.right.Delete(temp, value)\n",
    "            \n",
    "        else:\n",
    "            if (node.left is None and node.right is None):\n",
    "                if(temp.left == node):\n",
    "                    temp.left = None\n",
    "                else:\n",
    "                    temp.right = None\n",
    "                node = None\n",
    "        \n",
    "            elif node.right is None :\n",
    "                if(temp.left == node):\n",
    "                    temp.left = node.left\n",
    "                else:\n",
    "                    temp.right = node.left\n",
    "                node = None\n",
    "    \n",
    "            elif node.left is None :\n",
    "                if(temp.left == node):\n",
    "                    temp.left = node.right\n",
    "                else:\n",
    "                    temp.right = node.right\n",
    "                node = None\n",
    "                \n",
    "            else:\n",
    "                temp = node.right\n",
    "                while(temp.left is not None):\n",
    "                    temp = temp.left \n",
    "                node.value = temp.value\n",
    "                node.right.Delete(temp,temp.value)   \n",
    "Root = Tree(6) \n",
    "Root.Insert(4) \n",
    "Root.Insert(2) \n",
    "Root.Insert(5) \n",
    "Root.Insert(9) \n",
    "Root.Insert(8) \n",
    "Root.Insert( 10) \n",
    "  \n",
    "print (\"Inorder traversal after insertion: \",end = '')\n",
    "Root.Inorder(Root) \n",
    "\n",
    "Root.Delete(Root, 2) \n",
    "print ('\\n 2 is deleted: ',end ='')\n",
    "Root.Inorder(Root) \n",
    "  \n",
    "Root.Delete(Root, 4) \n",
    "print ('\\n 4 is deleted: ',end ='')\n",
    "Root.Inorder(Root) \n",
    "  \n",
    "Root.Delete(Root, 6) \n",
    "print ('\\n 6 is deleted: ',end ='')\n",
    "Root.Inorder(Root)"
   ]
  },
  {
   "cell_type": "code",
   "execution_count": null,
   "metadata": {},
   "outputs": [],
   "source": []
  }
 ],
 "metadata": {
  "kernelspec": {
   "display_name": "Python 3",
   "language": "python",
   "name": "python3"
  },
  "language_info": {
   "codemirror_mode": {
    "name": "ipython",
    "version": 3
   },
   "file_extension": ".py",
   "mimetype": "text/x-python",
   "name": "python",
   "nbconvert_exporter": "python",
   "pygments_lexer": "ipython3",
   "version": "3.8.3"
  }
 },
 "nbformat": 4,
 "nbformat_minor": 4
}

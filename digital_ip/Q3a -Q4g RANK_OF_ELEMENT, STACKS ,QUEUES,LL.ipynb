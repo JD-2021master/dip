{
 "cells": [
  {
   "cell_type": "markdown",
   "metadata": {},
   "source": [
    "# 3(11-20):"
   ]
  },
  {
   "cell_type": "code",
   "execution_count": 12,
   "metadata": {},
   "outputs": [
    {
     "name": "stdout",
     "output_type": "stream",
     "text": [
      "Max: 64\n",
      "Min: 6\n"
     ]
    }
   ],
   "source": [
    "#3a\n",
    "mylist = [13, 43, 6, 26, 33, 64]\n",
    "print(\"Max:\",max(mylist))\n",
    "print(\"Min:\",min(mylist))"
   ]
  },
  {
   "cell_type": "code",
   "execution_count": 13,
   "metadata": {},
   "outputs": [
    {
     "name": "stdout",
     "output_type": "stream",
     "text": [
      "(Rank, Item)\n",
      "[(0, 13), (1, 43), (2, 6), (3, 26), (4, 33), (5, 64)]\n",
      "Enter rank to find element:4\n",
      "33\n"
     ]
    }
   ],
   "source": [
    "#3b\n",
    "mylist = [13, 43, 6, 26, 33, 64]\n",
    "print(\"(Rank, Item)\")\n",
    "l1 = list(enumerate(mylist))\n",
    "print(l1)\n",
    "ranks = int(input(\"Enter rank to find element:\"))\n",
    "\n",
    "for rank, value in l1:\n",
    "    if ranks == rank:\n",
    "        print(value)\n",
    "    else:\n",
    "        continue"
   ]
  },
  {
   "cell_type": "code",
   "execution_count": 16,
   "metadata": {},
   "outputs": [
    {
     "name": "stdout",
     "output_type": "stream",
     "text": [
      "(Rank, Item)\n",
      "[(0, 13), (1, 43), (2, 6), (3, 26), (4, 33), (5, 64)]\n",
      "Enter item to find rank:26\n",
      "3\n"
     ]
    }
   ],
   "source": [
    "#3c\n",
    "mylist = [13, 43, 6, 26, 33, 64]\n",
    "print(\"(Rank, Item)\")\n",
    "l1 = list(enumerate(mylist))\n",
    "print(l1)\n",
    "item = int(input(\"Enter item to find rank:\"))\n",
    "\n",
    "for rank, value in l1:\n",
    "    if value == item:\n",
    "        print(rank)\n",
    "    else:\n",
    "        continue"
   ]
  },
  {
   "cell_type": "code",
   "execution_count": 30,
   "metadata": {},
   "outputs": [
    {
     "name": "stdout",
     "output_type": "stream",
     "text": [
      "Original array:\n",
      "10\n",
      "30\n",
      "45\n",
      "62\n",
      "After inserting 78 in array:\n",
      "10\n",
      "30\n",
      "45\n",
      "62\n",
      "78\n",
      "After deleting 45 in array:\n",
      "10\n",
      "30\n",
      "62\n",
      "78\n",
      "Original list: [10, 30, 45, 62]\n",
      "After inserting 38 at 3rd position: [10, 30, 38, 45, 62]\n",
      "After deleting 45: [10, 30, 38, 62]\n"
     ]
    }
   ],
   "source": [
    "#4a\n",
    "#Insert and delete in array\n",
    "from array import *\n",
    "\n",
    "array1 = array('i', [10,30,45,62])\n",
    "print(\"Original array:\")\n",
    "for x in array1:\n",
    "    print(x)\n",
    "array1.insert(4,78)\n",
    "\n",
    "print(\"After inserting 78 in array:\")\n",
    "for x in array1:\n",
    "    print(x)\n",
    "\n",
    "print(\"After deleting 45 in array:\")\n",
    "array1.remove(45)\n",
    "for x in array1:\n",
    "    print(x)\n",
    "    \n",
    "#Insert and delete in linked list\n",
    "mylist = [10, 30, 45, 62]\n",
    "print(\"Original list:\",mylist)\n",
    "\n",
    "mylist.insert(2, 38)\n",
    "print(\"After inserting 38 at 3rd position:\", mylist)\n",
    "\n",
    "mylist.remove(45)\n",
    "print(\"After deleting 45:\", mylist)"
   ]
  },
  {
   "cell_type": "code",
   "execution_count": 11,
   "metadata": {},
   "outputs": [
    {
     "name": "stdout",
     "output_type": "stream",
     "text": [
      "Stack: 10->9->8->7->6->5->4->3->2->\n",
      "Pop: 10\n",
      "Pop: 9\n",
      "Pop: 8\n",
      "Pop: 7\n",
      "Pop: 6\n",
      "Stack: 5->4->3->2->\n"
     ]
    }
   ],
   "source": [
    "#4a\n",
    "#Stack using Linked List\n",
    "class Node:\n",
    "    def __init__(self, value):\n",
    "        self.value = value\n",
    "        self.next = None\n",
    "\n",
    "class Stack: \n",
    "    def __init__(self):\n",
    "        self.head = Node(\"head\")\n",
    "        self.size = 0\n",
    "\n",
    "    def __str__(self):\n",
    "        cur = self.head.next\n",
    "        out = \"\"\n",
    "        while cur:\n",
    "            out += str(cur.value) + \"->\"\n",
    "            cur = cur.next\n",
    "        return out[:-3] \n",
    "\n",
    "    def getSize(self):\n",
    "        return self.size\n",
    "\n",
    "    def isEmpty(self):\n",
    "        return self.size == 0\n",
    "\n",
    "    def peek(self):\n",
    "\n",
    "        if self.isEmpty():\n",
    "            raise Exception(\"Peeking from an empty stack\")\n",
    "        return self.head.next.value\n",
    "\n",
    "    def push(self, value):\n",
    "        node = Node(value)\n",
    "        node.next = self.head.next\n",
    "        self.head.next = node\n",
    "        self.size += 1\n",
    "\n",
    "    def pop(self):\n",
    "        if self.isEmpty():\n",
    "            raise Exception(\"Popping from an empty stack\")\n",
    "        remove = self.head.next\n",
    "        self.head.next = self.head.next.next\n",
    "        self.size -= 1\n",
    "        return remove.value\n",
    "\n",
    "if __name__ == \"__main__\":\n",
    "    stack = Stack()\n",
    "    for i in range(1, 11):\n",
    "        stack.push(i)\n",
    "    print(f\"Stack: {stack}\")\n",
    "\n",
    "    for _ in range(1, 6):\n",
    "        remove = stack.pop()\n",
    "        print(f\"Pop: {remove}\")\n",
    "    print(f\"Stack: {stack}\")\n"
   ]
  },
  {
   "cell_type": "code",
   "execution_count": 45,
   "metadata": {},
   "outputs": [
    {
     "name": "stdout",
     "output_type": "stream",
     "text": [
      "Initial queue\n",
      "['a', 'b', 'c']\n",
      "\n",
      "Elements dequeued from queue\n",
      "a\n",
      "b\n",
      "c\n",
      "\n",
      "Queue after removing elements\n",
      "[]\n",
      "[0, 1, 2, 3, 4, 5]\n",
      "[1, 2, 3, 4, 5]\n",
      "[2, 3, 4, 5]\n",
      "4\n"
     ]
    }
   ],
   "source": [
    "#4b\n",
    "#QUEUE using linked list\n",
    "queue = []\n",
    "queue.append('a')\n",
    "queue.append('b')\n",
    "queue.append('c')\n",
    "\n",
    "print(\"Initial queue\")\n",
    "print(queue)\n",
    "print(\"\\nElements dequeued from queue\")\n",
    "print(queue.pop(0))\n",
    "print(queue.pop(0))\n",
    "print(queue.pop(0))\n",
    "\n",
    "print(\"\\nQueue after removing elements\")\n",
    "print(queue)\n",
    "\n",
    "#QUEUE implementation using array\n",
    "class Queue:\n",
    "    def __init__(self):\n",
    "        self.v_list=[]\n",
    "\n",
    "    def enqueue(self,value):\n",
    "        self.v_list.append(value)\n",
    "\n",
    "    def dequeue(self):\n",
    "        if len(self.v_list)==0:\n",
    "            print('Queue is Empty')\n",
    "            return\n",
    "        self.v_list.pop(0)\n",
    "\n",
    "    def print_queue(self):\n",
    "        print(self.v_list)\n",
    "\n",
    "    def size_of_queue(self):\n",
    "        return print(len(self.v_list))\n",
    "\n",
    "object_queue=Queue()\n",
    "object_queue.enqueue(0)\n",
    "object_queue.enqueue(1)\n",
    "object_queue.enqueue(2)\n",
    "object_queue.enqueue(3)\n",
    "object_queue.enqueue(4)\n",
    "object_queue.enqueue(5)\n",
    "object_queue.print_queue()\n",
    "object_queue.dequeue()\n",
    "object_queue.print_queue()\n",
    "object_queue.dequeue()\n",
    "object_queue.print_queue()\n",
    "object_queue.size_of_queue()"
   ]
  },
  {
   "cell_type": "code",
   "execution_count": null,
   "metadata": {},
   "outputs": [
    {
     "name": "stdout",
     "output_type": "stream",
     "text": [
      "Menu\n",
      "push <value>\n",
      "pop\n",
      "quit\n",
      "What would you like to do? push 3\n",
      "What would you like to do? push 5\n",
      "What would you like to do? push 1\n",
      "What would you like to do? menu\n",
      "What would you like to do? pop\n",
      "Popped value:  1\n",
      "What would you like to do? pop\n",
      "Popped value:  5\n",
      "What would you like to do? pop\n",
      "Popped value:  3\n",
      "What would you like to do? pop\n",
      "Stack is empty.\n"
     ]
    }
   ],
   "source": [
    "#4c\n",
    "class Stack:\n",
    "    def __init__(self):\n",
    "        self.queue1 = Queue()\n",
    "        self.queue2 = Queue()\n",
    " \n",
    "    def is_empty(self):\n",
    "        return self.queue2.is_empty()\n",
    " \n",
    "    def push(self, data):\n",
    "        self.queue1.enqueue(data)\n",
    "        while not self.queue2.is_empty():\n",
    "            x = self.queue2.dequeue()\n",
    "            self.queue1.enqueue(x)\n",
    "        self.queue1, self.queue2 = self.queue2, self.queue1\n",
    " \n",
    "    def pop(self):\n",
    "        return self.queue2.dequeue()\n",
    "\n",
    "class Queue:\n",
    "    def __init__(self):\n",
    "        self.items = []\n",
    " \n",
    "    def is_empty(self):\n",
    "        return self.items == []\n",
    " \n",
    "    def enqueue(self, data):\n",
    "        self.items.append(data)\n",
    " \n",
    "    def dequeue(self):\n",
    "        return self.items.pop(0)\n",
    " \n",
    " \n",
    "s = Stack()\n",
    " \n",
    "print('Menu')\n",
    "print('push <value>')\n",
    "print('pop')\n",
    "print('quit')\n",
    " \n",
    "while True:\n",
    "    do = input('What would you like to do? ').split()\n",
    " \n",
    "    operation = do[0].strip().lower()\n",
    "    if operation == 'push':\n",
    "        s.push(int(do[1]))\n",
    "    elif operation == 'pop':\n",
    "        if s.is_empty():\n",
    "            print('Stack is empty.')\n",
    "        else:\n",
    "            print('Popped value: ', s.pop())\n",
    "    elif operation == 'quit':\n",
    "        break"
   ]
  },
  {
   "cell_type": "code",
   "execution_count": 2,
   "metadata": {},
   "outputs": [
    {
     "name": "stdout",
     "output_type": "stream",
     "text": [
      "1\n",
      "2\n",
      "3\n"
     ]
    }
   ],
   "source": [
    "#4f\n",
    "class Queue: \n",
    "    def __init__(self): \n",
    "        self.s1 = [] \n",
    "        self.s2 = [] \n",
    "    def enQueue(self, x): \n",
    "        while len(self.s1) != 0: \n",
    "            self.s2.append(self.s1[-1]) \n",
    "            self.s1.pop() \n",
    "\n",
    "\t\tself.s1.append(x) \n",
    "\n",
    "\t\twhile len(self.s2) != 0: \n",
    "\t\t\tself.s1.append(self.s2[-1]) \n",
    "\t\t\tself.s2.pop() \n",
    "\n",
    "\tdef deQueue(self): \n",
    "\n",
    "\t\tif len(self.s1) == 0: \n",
    "\t\t\tprint(\"Q is Empty\") \n",
    "\t\n",
    "\t\tx = self.s1[-1] \n",
    "\t\tself.s1.pop() \n",
    "\t\treturn x \n",
    "\n",
    "if __name__ == '__main__': \n",
    "\tq = Queue() \n",
    "\tq.enQueue(1) \n",
    "\tq.enQueue(2) \n",
    "\tq.enQueue(3) \n",
    "\tprint(q.deQueue()) \n",
    "\tprint(q.deQueue()) \n",
    "\tprint(q.deQueue()) "
   ]
  },
  {
   "cell_type": "code",
   "execution_count": 8,
   "metadata": {},
   "outputs": [
    {
     "name": "stdout",
     "output_type": "stream",
     "text": [
      "Move disk 1 from source A to destination C\n",
      "Move disk 2 from source A to destination B\n",
      "Move disk 1 from source C to destination B\n",
      "Move disk 3 from source A to destination C\n",
      "Move disk 1 from source B to destination A\n",
      "Move disk 2 from source B to destination C\n",
      "Move disk 1 from source A to destination C\n",
      "Move disk 4 from source A to destination B\n",
      "Move disk 1 from source C to destination B\n",
      "Move disk 2 from source C to destination A\n",
      "Move disk 1 from source B to destination A\n",
      "Move disk 3 from source C to destination B\n",
      "Move disk 1 from source A to destination C\n",
      "Move disk 2 from source A to destination B\n",
      "Move disk 1 from source C to destination B\n"
     ]
    }
   ],
   "source": [
    "#4g\n",
    "def TowerOfHanoi(n , source, destination, auxiliary): \n",
    "\tif n==1: \n",
    "\t\tprint(\"Move disk 1 from source\", source, \"to destination\", destination)\n",
    "\t\treturn\n",
    "\tTowerOfHanoi(n-1, source, auxiliary, destination) \n",
    "\tprint(\"Move disk\",n,\"from source\",source,\"to destination\",destination)\n",
    "\tTowerOfHanoi(n-1, auxiliary, destination, source) \n",
    "    \n",
    "n = 4\n",
    "TowerOfHanoi(n,'A','B','C') "
   ]
  },
  {
   "cell_type": "code",
   "execution_count": null,
   "metadata": {},
   "outputs": [],
   "source": []
  }
 ],
 "metadata": {
  "kernelspec": {
   "display_name": "Python 3",
   "language": "python",
   "name": "python3"
  },
  "language_info": {
   "codemirror_mode": {
    "name": "ipython",
    "version": 3
   },
   "file_extension": ".py",
   "mimetype": "text/x-python",
   "name": "python",
   "nbconvert_exporter": "python",
   "pygments_lexer": "ipython3",
   "version": "3.8.3"
  }
 },
 "nbformat": 4,
 "nbformat_minor": 4
}

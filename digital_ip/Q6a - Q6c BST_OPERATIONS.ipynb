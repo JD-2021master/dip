{
 "cells": [
  {
   "cell_type": "code",
   "execution_count": 9,
   "metadata": {},
   "outputs": [
    {
     "name": "stdout",
     "output_type": "stream",
     "text": [
      "Queue elements:\n",
      "10\n",
      "26\n",
      "56\n",
      "dequeued:  10\n",
      "dequeued:  26\n",
      "dequeued:  56\n",
      "Queue elements:\n",
      "45\n",
      "23\n",
      "75\n",
      "47\n"
     ]
    }
   ],
   "source": [
    "#Queue\n",
    "n=50\n",
    "class queue:\n",
    "    def __init__(self):\n",
    "        self.qu=[]\n",
    "        self.lastop=-1\n",
    "        self.head=0\n",
    "        self.tail=0\n",
    "        \n",
    "    def is_empty(self):\n",
    "        if len(self.qu)==0:\n",
    "            return True\n",
    "        return False\n",
    "    def enqueue(self,x):\n",
    "        if (self.head==self.tail and self.lastop==1):\n",
    "            print(\"queue is full\")\n",
    "            return\n",
    "        else:\n",
    "            self.qu.append(x)\n",
    "            self.tail=(self.tail+1)%n\n",
    "            self.lastop=1\n",
    "    \n",
    "    def dequeue(self):\n",
    "        if self.head==self.tail and self.lastop==-1:\n",
    "            print(\"queue is empty\")\n",
    "            return\n",
    "        else:\n",
    "            k=self.qu[0]\n",
    "            self.qu.pop(0)\n",
    "            self.head=(self.head+1)%n\n",
    "            self.lastop=-1\n",
    "            return k\n",
    "    \n",
    "    def print_contents(self):\n",
    "        print(\"Queue elements:\")\n",
    "        for i in self.qu:\n",
    "            print(i)\n",
    "\n",
    "    \n",
    "q1=queue()\n",
    "q1.enqueue(10)\n",
    "q1.enqueue(26)\n",
    "q1.enqueue(56)\n",
    "q1.print_contents()\n",
    "print(\"dequeued: \",q1.dequeue())\n",
    "print(\"dequeued: \",q1.dequeue())\n",
    "print(\"dequeued: \",q1.dequeue())\n",
    "q1.enqueue(45)\n",
    "q1.enqueue(23)\n",
    "q1.enqueue(75)\n",
    "q1.enqueue(47)\n",
    "q1.print_contents()\n",
    "\n"
   ]
  },
  {
   "cell_type": "code",
   "execution_count": 10,
   "metadata": {},
   "outputs": [
    {
     "name": "stdout",
     "output_type": "stream",
     "text": [
      "Stack elements:\n",
      "7\n",
      "50\n",
      "22\n",
      "78\n",
      "53\n",
      "63\n",
      "Removed 63\n",
      "Removed 53\n",
      "Removed 78\n",
      "Stack elements:\n",
      "7\n",
      "50\n",
      "22\n",
      "27\n"
     ]
    }
   ],
   "source": [
    "#stack\n",
    "limit=50\n",
    "class stack:\n",
    "    def __init__(self):\n",
    "        self.stack=[]\n",
    "        self.top=0\n",
    "        \n",
    "    def is_empty(self):\n",
    "        if len(self.stack)==0:\n",
    "            return True\n",
    "        return False\n",
    "    \n",
    "    def push(self,x):\n",
    "        if self.top>limit:\n",
    "            return \"Limit exceeded\"\n",
    "        else:\n",
    "            self.stack.append(x)\n",
    "            self.top+=1\n",
    "    def pop(self):\n",
    "        if self.top==0:\n",
    "            return\n",
    "        else:\n",
    "            k=self.stack[self.top-1]\n",
    "            self.stack.pop()\n",
    "            self.top-=1\n",
    "            return k\n",
    "            \n",
    "    def print_contents(self):\n",
    "        print(\"Stack elements:\")\n",
    "        for i in self.stack:\n",
    "            print(i)\n",
    "        \n",
    "m1=stack()\n",
    "m1.push(7)\n",
    "m1.push(50)\n",
    "m1.push(22)\n",
    "m1.push(78)\n",
    "m1.push(53)\n",
    "m1.push(63)\n",
    "m1.print_contents()\n",
    "print(\"Removed\",m1.pop())\n",
    "print(\"Removed\",m1.pop())\n",
    "print(\"Removed\",m1.pop())\n",
    "m1.push(27)\n",
    "m1.print_contents()"
   ]
  },
  {
   "cell_type": "markdown",
   "metadata": {},
   "source": [
    "# BST INSERTION"
   ]
  },
  {
   "cell_type": "code",
   "execution_count": 11,
   "metadata": {},
   "outputs": [],
   "source": [
    "#BST\n",
    "\n",
    "class Node:\n",
    "    def __init__(self,x):\n",
    "        self.data=x\n",
    "        self.left=None\n",
    "        self.right=None\n",
    "        self.parent=None\n",
    "        \n",
    "class BST_Tree:\n",
    "    root=None\n",
    "    \n",
    "#BST INSERTION\n",
    "    def insert(self,x):\n",
    "        if self.root==None:\n",
    "            self.root=Node(x)\n",
    "        else:\n",
    "            k=self.root\n",
    "            prev=None\n",
    "            while(k!=None):\n",
    "                prev=k\n",
    "                if k.data<x:\n",
    "                    k=k.right\n",
    "                else:\n",
    "                    k=k.left\n",
    "                \n",
    "            if (prev.data<x):\n",
    "                prev.right=Node(x)\n",
    "                prev.right.parent=prev\n",
    "            else:\n",
    "                prev.left=Node(x)\n",
    "                prev.left.parent=prev\n",
    "                "
   ]
  },
  {
   "cell_type": "markdown",
   "metadata": {},
   "source": [
    "# BST TRAVERSALS"
   ]
  },
  {
   "cell_type": "code",
   "execution_count": 12,
   "metadata": {},
   "outputs": [
    {
     "name": "stdout",
     "output_type": "stream",
     "text": [
      "\n",
      "Preorder:\n",
      "12 10 3 9 85 23 20 42 91 87 \n",
      "Postorder:\n",
      "9 3 10 20 42 23 87 91 85 12 \n",
      "Inorder:\n",
      "3 9 10 12 20 23 42 85 87 91 "
     ]
    }
   ],
   "source": [
    "#Traversals\n",
    "\n",
    "def inorder(T):\n",
    "    if T==None:\n",
    "        return\n",
    "    else:\n",
    "        inorder(T.left)\n",
    "        print(T.data,end=' ')\n",
    "        inorder(T.right)\n",
    "        return\n",
    "    \n",
    "def preorder(T):\n",
    "    if T==None:\n",
    "        return\n",
    "    else:\n",
    "        print(T.data,end=' ')\n",
    "        preorder(T.left)\n",
    "        preorder(T.right)\n",
    "        return\n",
    "\n",
    "def postorder(T):\n",
    "    if T==None:\n",
    "        return\n",
    "    else:\n",
    "        postorder(T.left)\n",
    "        postorder(T.right)\n",
    "        print(T.data,end=' ')\n",
    "        return\n",
    "\n",
    "s=BST_Tree()\n",
    "s.insert(12)           \n",
    "s.insert(10)        \n",
    "s.insert(3)        \n",
    "s.insert(85)        \n",
    "s.insert(9)     \n",
    "s.insert(23)\n",
    "s.insert(42)\n",
    "s.insert(91)\n",
    "s.insert(20)\n",
    "s.insert(87)\n",
    "print(\"\\nPreorder:\",end='\\n')\n",
    "preorder(s.root)\n",
    "print(\"\\nPostorder:\",end='\\n')\n",
    "postorder(s.root)\n",
    "print(\"\\nInorder:\",end='\\n')\n",
    "inorder(s.root)      "
   ]
  },
  {
   "cell_type": "code",
   "execution_count": 13,
   "metadata": {},
   "outputs": [
    {
     "name": "stdout",
     "output_type": "stream",
     "text": [
      "12  10  85  3  23  91  9  20  42  87  "
     ]
    }
   ],
   "source": [
    "#level_order\n",
    "\n",
    "def level_order(T):\n",
    "    q=queue()\n",
    "    q.enqueue(T.root)\n",
    "    while(not q.is_empty()):\n",
    "        k=q.dequeue()\n",
    "        if k:\n",
    "            print(k.data,end='  ')\n",
    "            q.enqueue(k.left)\n",
    "            q.enqueue(k.right)\n",
    "    return\n",
    "\n",
    "level_order(s)\n"
   ]
  },
  {
   "cell_type": "code",
   "execution_count": 14,
   "metadata": {},
   "outputs": [
    {
     "name": "stdout",
     "output_type": "stream",
     "text": [
      "12  85  10  3  23  91  87  42  20  9  "
     ]
    }
   ],
   "source": [
    "# Zig zag traversal\n",
    "def zig_zag_traversal(T):\n",
    "    s_even=stack() #stack for even level\n",
    "    s_odd=stack() #stack for odd\n",
    "    level=0\n",
    "    s_even.push(T.root)\n",
    "    while(not (s_even.is_empty() )or not(s_odd.is_empty())):\n",
    "        if level%2==0:\n",
    "            k=s_even.pop()\n",
    "            if k:\n",
    "                s_odd.push(k.left)\n",
    "                s_odd.push(k.right)\n",
    "                print( k.data,end='  ')\n",
    "        else:\n",
    "            k=s_odd.pop()\n",
    "            if k:\n",
    "                s_even.push(k.right)\n",
    "                s_even.push(k.left)\n",
    "                print( k.data,end='  ')\n",
    "        if s_even.is_empty() and level%2==0:\n",
    "            level+=1\n",
    "        elif s_odd.is_empty()and level%2==1:\n",
    "            level+=1\n",
    "    \n",
    "    \n",
    "zig_zag_traversal(s)"
   ]
  },
  {
   "cell_type": "markdown",
   "metadata": {},
   "source": [
    "# QUERY OPERATIONS ON BST"
   ]
  },
  {
   "cell_type": "code",
   "execution_count": 15,
   "metadata": {},
   "outputs": [],
   "source": [
    "def get_min(x):\n",
    "        temp=x\n",
    "        while temp.left:\n",
    "                    temp=temp.left\n",
    "        return temp.data"
   ]
  },
  {
   "cell_type": "code",
   "execution_count": 16,
   "metadata": {},
   "outputs": [
    {
     "name": "stdout",
     "output_type": "stream",
     "text": [
      "minumum of tree: 3\n",
      "minimum of right sub tree:  20\n"
     ]
    }
   ],
   "source": [
    "print(\"minumum of tree:\",get_min(s.root))\n",
    "print(\"minimum of right sub tree: \",get_min(s.root.right))"
   ]
  },
  {
   "cell_type": "code",
   "execution_count": 17,
   "metadata": {},
   "outputs": [],
   "source": [
    "def get_max(x):\n",
    "        temp=x\n",
    "        while temp.right:\n",
    "                    temp=temp.right\n",
    "        return temp.data"
   ]
  },
  {
   "cell_type": "code",
   "execution_count": 18,
   "metadata": {},
   "outputs": [
    {
     "name": "stdout",
     "output_type": "stream",
     "text": [
      "minumum of tree: 91\n",
      "minimum of left sub tree:  10\n"
     ]
    }
   ],
   "source": [
    "print(\"minumum of tree:\",get_max(s.root))\n",
    "print(\"minimum of left sub tree: \",get_max(s.root.left))"
   ]
  },
  {
   "cell_type": "code",
   "execution_count": 19,
   "metadata": {},
   "outputs": [
    {
     "name": "stdout",
     "output_type": "stream",
     "text": [
      "get node with value 10 : <__main__.Node object at 0x0000025B89D3C130>\n"
     ]
    }
   ],
   "source": [
    "#SEARCH\n",
    "\n",
    "def search(k,x):\n",
    "    if k:\n",
    "        while(k!=None and x!=k.data):\n",
    "            if x<k.data:\n",
    "                k=k.left\n",
    "            else:\n",
    "                k=k.right\n",
    "        return k\n",
    "    return None\n",
    "\n",
    "print(\"get node with value 10 :\",search(s.root,10))"
   ]
  },
  {
   "cell_type": "code",
   "execution_count": 20,
   "metadata": {},
   "outputs": [],
   "source": [
    "def get_successor(BST_tree,x):\n",
    "        k=search(BST_tree.root,x)\n",
    "        if k:\n",
    "            if k.right:\n",
    "                return get_min(k.right)\n",
    "            else:\n",
    "                par=k.parent\n",
    "                if par==None:\n",
    "                    return None \n",
    "                while par!=None and k==par.right:\n",
    "                    k=k.parent\n",
    "                    par=par.parent\n",
    "                if par==None:\n",
    "                    return None\n",
    "                else:\n",
    "                    return par.data\n"
   ]
  },
  {
   "cell_type": "code",
   "execution_count": 21,
   "metadata": {},
   "outputs": [
    {
     "name": "stdout",
     "output_type": "stream",
     "text": [
      "Successor of 23: 42\n",
      "Successor of 9: 10\n",
      "Successor of 12: 20\n",
      "Successor of 91: None\n"
     ]
    }
   ],
   "source": [
    "print(\"Successor of 23:\",get_successor(s,23))\n",
    "print(\"Successor of 9:\",get_successor(s,9))\n",
    "print(\"Successor of 12:\",get_successor(s,12))\n",
    "print(\"Successor of 91:\",get_successor(s,91))"
   ]
  },
  {
   "cell_type": "code",
   "execution_count": 22,
   "metadata": {},
   "outputs": [],
   "source": [
    "def get_predecessor(BST_tree,x):\n",
    "        k=search(BST_tree.root,x)\n",
    "        if k:\n",
    "            if k.left:\n",
    "                return get_max(k.left)\n",
    "            else:\n",
    "                par=k.parent\n",
    "                if par==None:\n",
    "                    return None \n",
    "                while par!=None and k==par.left:\n",
    "                    k=k.parent\n",
    "                    par=par.parent\n",
    "                if par==None:\n",
    "                    return None\n",
    "                else:\n",
    "                    return par.data"
   ]
  },
  {
   "cell_type": "code",
   "execution_count": 23,
   "metadata": {},
   "outputs": [
    {
     "name": "stdout",
     "output_type": "stream",
     "text": [
      "Predecessor of 23:  20\n",
      "Predecessor of 9 :  3\n",
      "Predecessor of 42:  23\n",
      "Predecessor of 3 :  None\n"
     ]
    }
   ],
   "source": [
    "print(\"Predecessor of 23: \",get_predecessor(s,23))\n",
    "print(\"Predecessor of 9 : \",get_predecessor(s,9))\n",
    "print(\"Predecessor of 42: \",get_predecessor(s,42))\n",
    "print(\"Predecessor of 3 : \",get_predecessor(s,3))"
   ]
  },
  {
   "cell_type": "markdown",
   "metadata": {},
   "source": [
    "# BST ROTATE"
   ]
  },
  {
   "cell_type": "code",
   "execution_count": 33,
   "metadata": {},
   "outputs": [
    {
     "name": "stdout",
     "output_type": "stream",
     "text": [
      "\n",
      "Initially :\n",
      "12  10  85  3  11  90  \n",
      "after rotate at 10\n",
      "12  11  85  10  90  3  \n",
      "after rotate at 12\n",
      "85  12  90  11  10  3  "
     ]
    }
   ],
   "source": [
    "#rotation\n",
    "def left_rotate(T,x): \n",
    "    y=x.right\n",
    "    if y==None:\n",
    "        return\n",
    "    z=x.parent\n",
    "    b=y.left\n",
    "    if z==None:\n",
    "        T.root=y\n",
    "    elif z.data>y.data:\n",
    "        z.left=y\n",
    "    else:\n",
    "        z.right=y\n",
    "    y.parent=z\n",
    "    y.left=x\n",
    "    x.parent=y\n",
    "    x.right=b\n",
    "    if b:\n",
    "        b.parent=x\n",
    "    return T\n",
    "    \n",
    "\n",
    "b=BST_Tree()\n",
    "b.insert(12)           \n",
    "b.insert(10)        \n",
    "b.insert(3)        \n",
    "b.insert(85)        \n",
    "b.insert(90)\n",
    "b.insert(11)\n",
    "print(\"\\nInitially :\",end='\\n')\n",
    "level_order(b)\n",
    "k=search(b.root,10)\n",
    "new_b=left_rotate(b,k)\n",
    "print(\"\\nafter rotate at 10\")# left rotate at root 10\n",
    "level_order(new_b)\n",
    "k=search(b.root,12)\n",
    "new_b=left_rotate(b,k)\n",
    "print(\"\\nafter rotate at 12\")# left rotate at root 12\n",
    "level_order(new_b)"
   ]
  },
  {
   "cell_type": "code",
   "execution_count": 34,
   "metadata": {},
   "outputs": [
    {
     "name": "stdout",
     "output_type": "stream",
     "text": [
      "\n",
      "Initially :\n",
      "85  12  90  11  10  3  \n",
      "after rotate at 11\n",
      "85  12  90  10  3  11  \n",
      "after rotate at 85\n",
      "12  10  85  3  11  90  "
     ]
    }
   ],
   "source": [
    "#rotation\n",
    "def right_rotate(T,x): \n",
    "    y=x.left\n",
    "    if y==None:\n",
    "        return\n",
    "    z=x.parent\n",
    "    b=y.right\n",
    "    if z==None:\n",
    "        T.root=y\n",
    "    elif z.data>y.data:\n",
    "        z.left=y\n",
    "    else:\n",
    "        z.right=y\n",
    "    y.parent=z\n",
    "    y.right=x\n",
    "    x.parent=y\n",
    "    x.left=b\n",
    "    if b:\n",
    "        b.parent=x\n",
    "    return T\n",
    "\n",
    "print(\"\\nInitially :\",end='\\n')\n",
    "level_order(b)\n",
    "k=search(b.root,11)\n",
    "new_b=right_rotate(b,k)\n",
    "print(\"\\nafter rotate at 11\")# left rotate at root 12\n",
    "level_order(new_b)\n",
    "k=search(b.root,85)\n",
    "new_b=right_rotate(b,k)\n",
    "print(\"\\nafter rotate at 85\")# left rotate at root 12\n",
    "level_order(new_b)"
   ]
  },
  {
   "cell_type": "markdown",
   "metadata": {},
   "source": [
    "# BST DELETION"
   ]
  },
  {
   "cell_type": "code",
   "execution_count": 33,
   "metadata": {},
   "outputs": [],
   "source": [
    "#BST DELETION\n",
    "\n",
    "def delete(BST_tree,x):\n",
    "        if BST_tree.root==None:\n",
    "            print( \"\\nTree is empty\\n\")\n",
    "            return\n",
    "        else:\n",
    "            k=search(BST_tree.root,x)\n",
    "            if k==None:\n",
    "                print(\"\\nValue not Found\\n\")\n",
    "                return\n",
    "            else:\n",
    "                temp=k\n",
    "                prev=k.parent\n",
    "                if k.left==None and k.right==None:\n",
    "                    if prev==None:\n",
    "                        BST_tree.root=None\n",
    "                    elif k==prev.left:\n",
    "                        prev.left=None\n",
    "                    else:\n",
    "                        prev.right=None\n",
    "                    return\n",
    "                elif k.left==None and k.right:\n",
    "                    k=k.right\n",
    "                elif k.left and k.right==None:\n",
    "                    k=k.left\n",
    "                else:\n",
    "                    t=get_successor(BST_tree,k.data)\n",
    "                    p=Node(t)\n",
    "                    if k.right.data==t: #check if successor is right child\n",
    "                        p=k.right\n",
    "                    else:\n",
    "                        delete(BST_tree,t)\n",
    "                        p.right=k.right\n",
    "                        p.right.parent=p \n",
    "                    p.left=k.left\n",
    "                    p.left.parent=p\n",
    "                    k=p\n",
    "                k.parent=prev\n",
    "                if prev==None:\n",
    "                    BST_tree.root=k\n",
    "                    return\n",
    "                if prev.left==temp:\n",
    "                    prev.left=k\n",
    "                else:\n",
    "                    prev.right=k"
   ]
  },
  {
   "cell_type": "code",
   "execution_count": 34,
   "metadata": {},
   "outputs": [
    {
     "name": "stdout",
     "output_type": "stream",
     "text": [
      "\n",
      "Original tree Inorder:\n",
      "3 9 10 12 20 23 42 85 87 91 \n",
      "Inorder:\n",
      "3 9 10 12 20 42 85 87 91 \n",
      "Inorder:\n",
      "3 9 10 20 42 85 87 91 \n",
      "Inorder:\n",
      "3 9 10 42 85 87 91 \n",
      "Inorder:\n",
      "3 9 10 85 87 91 \n",
      "Inorder:\n",
      "3 10 85 87 91 \n",
      "Inorder:\n",
      "3 10 87 91 \n",
      "Inorder:\n",
      "3 87 91 \n",
      "Inorder:\n",
      "3 91 "
     ]
    }
   ],
   "source": [
    "print(\"\\nOriginal tree Inorder:\",end='\\n')\n",
    "inorder(s.root)\n",
    "delete(s,23)\n",
    "print(\"\\nInorder:\",end='\\n')\n",
    "inorder(s.root)      \n",
    "delete(s,12)\n",
    "print(\"\\nInorder:\",end='\\n')\n",
    "inorder(s.root)\n",
    "delete(s,20)\n",
    "print(\"\\nInorder:\",end='\\n')\n",
    "inorder(s.root)\n",
    "delete(s,42)\n",
    "print(\"\\nInorder:\",end='\\n')\n",
    "inorder(s.root)\n",
    "delete(s,9)\n",
    "print(\"\\nInorder:\",end='\\n')\n",
    "inorder(s.root)\n",
    "delete(s,85)\n",
    "print(\"\\nInorder:\",end='\\n')\n",
    "inorder(s.root)\n",
    "delete(s,10)\n",
    "print(\"\\nInorder:\",end='\\n')\n",
    "inorder(s.root)\n",
    "delete(s,87)\n",
    "print(\"\\nInorder:\",end='\\n')\n",
    "inorder(s.root)"
   ]
  }
 ],
 "metadata": {
  "kernelspec": {
   "display_name": "Python 3",
   "language": "python",
   "name": "python3"
  },
  "language_info": {
   "codemirror_mode": {
    "name": "ipython",
    "version": 3
   },
   "file_extension": ".py",
   "mimetype": "text/x-python",
   "name": "python",
   "nbconvert_exporter": "python",
   "pygments_lexer": "ipython3",
   "version": "3.8.3"
  }
 },
 "nbformat": 4,
 "nbformat_minor": 4
}

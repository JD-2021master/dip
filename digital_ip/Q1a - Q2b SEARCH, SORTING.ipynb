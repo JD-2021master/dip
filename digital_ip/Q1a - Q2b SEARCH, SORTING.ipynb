{
 "cells": [
  {
   "cell_type": "code",
   "execution_count": 1,
   "metadata": {},
   "outputs": [],
   "source": [
    "import numpy as np"
   ]
  },
  {
   "cell_type": "markdown",
   "metadata": {},
   "source": [
    "# Search"
   ]
  },
  {
   "cell_type": "code",
   "execution_count": 2,
   "metadata": {},
   "outputs": [
    {
     "name": "stdout",
     "output_type": "stream",
     "text": [
      "Unsorted array:\n",
      "0\n",
      "6\n",
      "-1\n",
      "Sorted array:\n",
      "1\n",
      "2\n",
      "5\n"
     ]
    }
   ],
   "source": [
    "#Liner_Search\n",
    "def linear_search(a, x): \n",
    "    for k in range(0,len(a)): \n",
    "        if a[k] == x: \n",
    "            return k\n",
    "    return -1\n",
    "\n",
    "\n",
    "unsorted=np.array([12,423,9,14,100,65,34,90])\n",
    "sort_arr=np.array([1,10,12,23,45,74,1002])\n",
    "print(\"Unsorted array:\")\n",
    "print(linear_search(unsorted,12))\n",
    "print(linear_search(unsorted,34))\n",
    "print(linear_search(unsorted,81))\n",
    "print(\"Sorted array:\")\n",
    "print(linear_search(sort_arr,10))\n",
    "print(linear_search(sort_arr,12))\n",
    "print(linear_search(sort_arr,74))"
   ]
  },
  {
   "cell_type": "code",
   "execution_count": 3,
   "metadata": {},
   "outputs": [
    {
     "name": "stdout",
     "output_type": "stream",
     "text": [
      "Sorted array:\n",
      "1\n",
      "2\n",
      "5\n"
     ]
    }
   ],
   "source": [
    "#Binary_search\n",
    "\n",
    "def binary_search(a,x):\n",
    "    st = 0\n",
    "    ed = len(a)-1\n",
    "    while( st<=ed ):\n",
    "        mid = (st+ed)//2\n",
    "        if a[mid] == x :\n",
    "            return mid\n",
    "        else:\n",
    "            if x < a[mid]:\n",
    "                ed = mid - 1\n",
    "            else:\n",
    "                st = mid + 1\n",
    "    return \"Not found\"\n",
    "\n",
    "sort_arr=np.array([1,10,12,23,45,74,1002])\n",
    "print(\"Sorted array:\")\n",
    "print(binary_search(sort_arr,10))\n",
    "print(binary_search(sort_arr,12))\n",
    "print(binary_search(sort_arr,74))"
   ]
  },
  {
   "cell_type": "markdown",
   "metadata": {},
   "source": [
    "# Sorting"
   ]
  },
  {
   "cell_type": "code",
   "execution_count": 10,
   "metadata": {},
   "outputs": [
    {
     "name": "stdout",
     "output_type": "stream",
     "text": [
      "[   1   10   12   23   45   74 1002]\n"
     ]
    }
   ],
   "source": [
    "#insertion sort\n",
    "\n",
    "def insertion_sort(A,n):\n",
    "    for i in range(1,n):\n",
    "        key=A[i]\n",
    "        j=i-1\n",
    "        while j>=0 and A[j]>key:\n",
    "            A[j+1]=A[j]\n",
    "            j-=1\n",
    "        A[j+1]=key\n",
    "        \n",
    "        \n",
    "arr=np.array([12,23,1,1002,45,74,10])\n",
    "insertion_sort(arr,len(arr))\n",
    "print(arr)"
   ]
  },
  {
   "cell_type": "code",
   "execution_count": 14,
   "metadata": {},
   "outputs": [
    {
     "name": "stdout",
     "output_type": "stream",
     "text": [
      "[  9  12  14  34  65  90 100 423]\n"
     ]
    }
   ],
   "source": [
    "#selection sort\n",
    "def selection_sort(A,n):\n",
    "    for i in range(n-1):\n",
    "        m=0\n",
    "        for j in range(1,n-i):\n",
    "            if A[j]>A[m]:\n",
    "                m=j\n",
    "        A[n-i-1],A[m]=A[m],A[n-i-1]\n",
    "    \n",
    "\n",
    "arr=np.array([12,423,9,14,100,65,34,90])\n",
    "selection_sort(arr,len(arr))\n",
    "print(arr)"
   ]
  },
  {
   "cell_type": "code",
   "execution_count": 15,
   "metadata": {},
   "outputs": [
    {
     "name": "stdout",
     "output_type": "stream",
     "text": [
      "[   6    9   12   14   23   34   73   90 1002]\n"
     ]
    }
   ],
   "source": [
    "#bubble sort\n",
    "def bubble_sort(A,n):\n",
    "    for i in range(0,n-1):\n",
    "        swapping=False\n",
    "        for j in range(n-i-1):\n",
    "            if A[j]>A[j+1]:\n",
    "                A[j+1],A[j]=A[j],A[j+1]\n",
    "                swapping=True\n",
    "        if not swapping:\n",
    "                return\n",
    "\n",
    "arr=np.array([73,12,23,9,14,1002,6,34,90])\n",
    "bubble_sort(arr,len(arr))\n",
    "print(arr)"
   ]
  },
  {
   "cell_type": "code",
   "execution_count": 16,
   "metadata": {},
   "outputs": [
    {
     "name": "stdout",
     "output_type": "stream",
     "text": [
      "[   6    9   12   14   23   34   73   90 1002]\n"
     ]
    }
   ],
   "source": [
    "#merge sort\n",
    "def merge_sort(A,l,r):\n",
    "    if l<r:\n",
    "        mid=(l+r)//2\n",
    "        merge_sort(A,l,mid)\n",
    "        merge_sort(A,mid+1,r)\n",
    "        merge(A,l,mid,r)\n",
    "\n",
    "def merge(A,l,m,r):\n",
    "    i=l\n",
    "    j=m+1\n",
    "    B=np.array([])\n",
    "    while i<=m and j<=r:\n",
    "        if A[j]<A[i]:\n",
    "            B=np.append(B,A[j])\n",
    "            j+=1\n",
    "        else:\n",
    "            B=np.append(B,A[i])\n",
    "            i+=1\n",
    "    if i>m:\n",
    "        i=j\n",
    "        m=r\n",
    "    while i<=m:\n",
    "        B=np.append(B,A[i])\n",
    "        i+=1\n",
    "    for k in range(l,r+1):\n",
    "        A[k]=B[k-l]\n",
    "\n",
    "\n",
    "arr=np.array([73,12,23,9,14,1002,6,34,90])\n",
    "merge_sort(arr,0,len(arr)-1)\n",
    "print(arr)"
   ]
  },
  {
   "cell_type": "code",
   "execution_count": 17,
   "metadata": {},
   "outputs": [
    {
     "name": "stdout",
     "output_type": "stream",
     "text": [
      "[   6    9   12   14   23   34   73   90 1002]\n"
     ]
    }
   ],
   "source": [
    "#quick sort\n",
    "\n",
    "def quick_sort(A,l,r):\n",
    "    if l<r:\n",
    "        q=partition(A,l,r)\n",
    "        quick_sort(A,l,q-1)\n",
    "        quick_sort(A,q+1,r)\n",
    "\n",
    "def partition(A,l,r):\n",
    "    pivot=A[l]\n",
    "    j=l+1\n",
    "    i=l\n",
    "    while j<=r:\n",
    "        if A[j]<pivot:\n",
    "            A[i+1],A[j]=A[j],A[i+1]\n",
    "            i=i+1\n",
    "        j+=1\n",
    "    A[l],A[i]=A[i],A[l]\n",
    "    return i\n",
    "    \n",
    "a=np.array([73,12,23,9,14,1002,6,34,90])\n",
    "quick_sort(a,0,len(a)-1)\n",
    "print(a)      "
   ]
  },
  {
   "cell_type": "code",
   "execution_count": 18,
   "metadata": {},
   "outputs": [],
   "source": [
    "#Heap sort\n",
    "def Maxheapify(A,i,n):\n",
    "    l=2*i+1\n",
    "    r=2*i+2\n",
    "    if l>n:\n",
    "        return\n",
    "    if r>n:\n",
    "        largest=l\n",
    "    else:\n",
    "        if A[l]>A[r]:\n",
    "            largest=l\n",
    "        else:\n",
    "            largest=r\n",
    "    if A[largest]>A[i]:\n",
    "        A[i],A[largest]=A[largest],A[i]\n",
    "        Maxheapify(A,largest,n)\n",
    "        \n",
    "        \n",
    "def build_heap(A):\n",
    "    n=len(A)-1\n",
    "    k=int((n-1)//2)\n",
    "    for i in range(k+1,-1,-1):\n",
    "        Maxheapify(A,i,n)\n",
    "        #print(A)\n",
    "    \n",
    "def heapSort(A):\n",
    "    build_heap(A)\n",
    "    n=len(A)-1\n",
    "    heapsize=n\n",
    "    for i in range(n,0,-1):\n",
    "        heapsize-=1\n",
    "        A[0],A[i]=A[i],A[0]\n",
    "        Maxheapify(A,0,heapsize)\n",
    "    "
   ]
  },
  {
   "cell_type": "code",
   "execution_count": 19,
   "metadata": {},
   "outputs": [
    {
     "name": "stdout",
     "output_type": "stream",
     "text": [
      "[2, 3, 6, 7, 8, 22, 45, 90]\n"
     ]
    }
   ],
   "source": [
    "arr=[2,3,45,6,7,8,90,22]\n",
    "heapSort(arr)\n",
    "print(arr)"
   ]
  },
  {
   "cell_type": "code",
   "execution_count": 20,
   "metadata": {},
   "outputs": [
    {
     "name": "stdout",
     "output_type": "stream",
     "text": [
      "[2, 3, 3, 4, 4, 4, 4, 4, 5, 5, 5, 8, 8, 8]\n"
     ]
    }
   ],
   "source": [
    "#counting sort\n",
    "def counting_sort(A):\n",
    "    B=[0]*10\n",
    "    for i in A:\n",
    "        B[i]+=1\n",
    "    for k in range(1,10):\n",
    "        B[k]+=B[k-1]\n",
    "    C=[0]*len(A)\n",
    "    for k in A[-1::-1]:\n",
    "        if B[k]>0:\n",
    "            C[B[k]-1]=k\n",
    "            B[k]-=1\n",
    "    return C\n",
    "A=[4,8,4,8,5,4,8,3,5,2,3,4,5,4]\n",
    "print(counting_sort(A))\n"
   ]
  }
 ],
 "metadata": {
  "kernelspec": {
   "display_name": "Python 3",
   "language": "python",
   "name": "python3"
  },
  "language_info": {
   "codemirror_mode": {
    "name": "ipython",
    "version": 3
   },
   "file_extension": ".py",
   "mimetype": "text/x-python",
   "name": "python",
   "nbconvert_exporter": "python",
   "pygments_lexer": "ipython3",
   "version": "3.8.3"
  }
 },
 "nbformat": 4,
 "nbformat_minor": 4
}

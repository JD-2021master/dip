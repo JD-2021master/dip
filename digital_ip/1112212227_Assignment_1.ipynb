{
 "cells": [
  {
   "cell_type": "markdown",
   "metadata": {},
   "source": [
    "# ASSIGNMENT -1 \n",
    "## 202018011 VISHVAM JANI\n",
    "## 202018012 KANAKAMEDALA RAGAJA\n",
    "## 202018021 SHUBHADITYA ROY\n",
    "## 202018022 ANERI THAKKAR\n",
    "## 202018027 NISARG THAKKAR"
   ]
  },
  {
   "cell_type": "code",
   "execution_count": 7,
   "metadata": {},
   "outputs": [
    {
     "name": "stdout",
     "output_type": "stream",
     "text": [
      "Terminated at c= 19\n"
     ]
    }
   ],
   "source": [
    "#Ques1\n",
    "import random\n",
    "n=7\n",
    "c=0\n",
    "while n<=7:\n",
    "    p=random.choice([-2,2])\n",
    "    n+=p\n",
    "    c+=1\n",
    "print(\"Terminated at c=\",c)"
   ]
  },
  {
   "cell_type": "code",
   "execution_count": 5,
   "metadata": {},
   "outputs": [],
   "source": [
    "#Ques 2\n",
    "def get_common_substring(s1,s2):\n",
    "    b=len(s2)\n",
    "    s=\"\"\n",
    "    wrd=0\n",
    "    for i in range(1,b):\n",
    "        if s1[:i]==s2[-i]:\n",
    "            wrd=i\n",
    "            s=s1\n",
    "        elif s1[-i:]==s2[:i]:\n",
    "            wrd=i\n",
    "            s=s2\n",
    "    if wrd==0:\n",
    "        return ''\n",
    "    return s[:wrd]\n",
    "\n",
    "\n",
    "def get_min_string(str_list):\n",
    "    if len(str_list)==1:\n",
    "        return str_list[0]\n",
    "    else:\n",
    "        max_len=0\n",
    "        new_st=\"\"\n",
    "        max_st=\"\"\n",
    "        s1=\"\"\n",
    "        s2=\"\"\n",
    "        for i in str_list:\n",
    "            for j in str_list:\n",
    "                if i!=j:\n",
    "                    c_st=get_common_substring(i,j)\n",
    "                    if len(c_st)>max_len:\n",
    "                        max_len=len(c_st)\n",
    "                        max_st=c_st\n",
    "                        s1=i\n",
    "                        s2=j\n",
    "        \n",
    "        if max_len==0:\n",
    "            new_st=''.join(str_list)\n",
    "            return new_st\n",
    "        if s2[:max_len]==max_st:\n",
    "            t=len(s2)\n",
    "            new_st=s1+s2[max_len:]\n",
    "        else:\n",
    "            t=len(s1)\n",
    "            new_st=s2+s1[max_len:]\n",
    "        str_list.remove(s1)\n",
    "        str_list.remove(s2)\n",
    "        str_list.append(new_st)\n",
    "        return get_min_string(str_list)"
   ]
  },
  {
   "cell_type": "code",
   "execution_count": 6,
   "metadata": {},
   "outputs": [
    {
     "name": "stdout",
     "output_type": "stream",
     "text": [
      "MorningWelcome,Hello-Hi247639Today Good.\n"
     ]
    }
   ],
   "source": [
    "str_list=['Hello-Hi24','Welcome,Hello','Good.','Morning','Hi247639','Today Go']\n",
    "str_list.sort(key=len,reverse=True)\n",
    "ans=str_list[0]\n",
    "\n",
    "print(get_min_string(str_list))"
   ]
  },
  {
   "cell_type": "code",
   "execution_count": 19,
   "metadata": {},
   "outputs": [
    {
     "name": "stdout",
     "output_type": "stream",
     "text": [
      "Enter the no of state present in the Transition machine:3\n",
      "The states in transisiton machine are : [0, 1, 2] \n",
      "\n",
      "Enter next state from state 0 with input a: \n",
      "1\n",
      "Enter next state from state 0 with input b: \n",
      "1\n",
      "Enter next state from state 1 with input a: \n",
      "1\n",
      "Enter next state from state 1 with input b: \n",
      "2\n",
      "Enter next state from state 2 with input a: \n",
      "2\n",
      "Enter next state from state 2 with input b: \n",
      "1\n",
      "Enter inital state of machine: 0\n",
      "Enter the state you want to reach: 2\n",
      "Path found\n"
     ]
    }
   ],
   "source": [
    "# Ques3\n",
    "import time\n",
    "def check_path(v,Req_state,vist,i):\n",
    "    if i in visit:\n",
    "        return False\n",
    "    else:\n",
    "        visit.append(i)\n",
    "    #print(v[i])\n",
    "    if Req_state in v[i]:\n",
    "        return True\n",
    "    else:\n",
    "        for k in v[i]:\n",
    "            if check_path(v,Req_state,vist,k):\n",
    "                return True\n",
    "            else:\n",
    "                continue\n",
    "    return False\n",
    "\n",
    "a=int(input(\"Enter the no of state present in the Transition machine:\"))\n",
    "sts=[i for i in range(0,a)]\n",
    "print(\"The states in transisiton machine are :\",sts,\"\\n\")\n",
    "time.sleep(2)\n",
    "v=[]\n",
    "symb=['a','b']\n",
    "for i in range(0,a):\n",
    "    v.append([])\n",
    "    for s in symb:\n",
    "        print(\"Enter next state from state {} with input {}: \".format(i,s))\n",
    "        k=int(input())\n",
    "        v[i].append(k)\n",
    "ina_state=int(input(\"Enter inital state of machine: \"))\n",
    "Req_state=int(input(\"Enter the state you want to reach: \"))\n",
    "visit=[]\n",
    "if check_path(v,Req_state,visit,ina_state):\n",
    "    print(\"Path found\")\n",
    "else:print(\"No path found\")"
   ]
  },
  {
   "cell_type": "code",
   "execution_count": 6,
   "metadata": {},
   "outputs": [
    {
     "name": "stdout",
     "output_type": "stream",
     "text": [
      "['43-6+15*19']\n"
     ]
    }
   ],
   "source": [
    "#Ques 4\n",
    "def check(nums,target,c,ans,val,lst,s):\n",
    "    if val+lst==target:\n",
    "        s.append(ans)\n",
    "        #print(s)\n",
    "        return\n",
    "    if c==len(nums):\n",
    "        return\n",
    "    if ans==\"\":\n",
    "        check(nums,target,c+1,ans+str(nums[c]),val+lst,nums[c],s)\n",
    "    else:\n",
    "        check(nums,target,c+1,ans+'+'+str(nums[c]),val+lst,nums[c],s)\n",
    "        check(nums,target,c+1,ans+'-'+str(nums[c]),val+lst,-nums[c],s)\n",
    "        check(nums,target,c+1,ans+'*'+str(nums[c]),val,lst*nums[c],s)\n",
    "        if lst%nums[c]==0:\n",
    "            check(nums,target,c+1,ans+'/'+str(nums[c]),val,lst/nums[c],s)\n",
    "        check(nums,target,c+1,ans,val,lst,s)\n",
    "    return    \n",
    "\n",
    "def permu_check(nums,k):\n",
    "    ans=\"\"\n",
    "    s=[]\n",
    "    check(nums,target,0,ans,0,0,s)\n",
    "    if len(s)!=0:\n",
    "        return s\n",
    "    return\n",
    "\n",
    "\n",
    "import itertools\n",
    "\n",
    "nums=[43,31,6,15,19]\n",
    "\n",
    "Target= 322\n",
    "\n",
    "all_permutations=itertools.permutations(nums)\n",
    "for list1 in all_permutations:\n",
    "    result=[]\n",
    "    result=permu_check(list1,target)\n",
    "    if result and len(result)>0:\n",
    "        print(result)\n",
    "        break"
   ]
  },
  {
   "cell_type": "code",
   "execution_count": 11,
   "metadata": {},
   "outputs": [],
   "source": [
    "#Question 5\n",
    "\n",
    "val=lambda x:x[1]\n",
    "def nearest_words(s,my_dict):\n",
    "    dist={}\n",
    "    s=s.lower()\n",
    "    for i in my_dict:\n",
    "        dist[i]=word_distance(s,i)\n",
    "    k=sorted(dist.items(),key=val)\n",
    "    return k[0][0]\n",
    "    \n",
    "def word_distance(a,b):\n",
    "    m=len(a)\n",
    "    n=len(b)\n",
    "    mat=[]\n",
    "    mat.append([0]*(n+1))\n",
    "    for i in range(m):\n",
    "        mat.append([0]*(n+1))\n",
    "        for j in range(n):\n",
    "            if a[i]==b[j]:\n",
    "                mat[i+1][j+1]=mat[i][j]+1\n",
    "            else:\n",
    "                mat[i+1][j+1]=max(mat[i+1][j],mat[i][j+1])\n",
    "    return min(m,n)-mat[m][n]"
   ]
  },
  {
   "cell_type": "code",
   "execution_count": 14,
   "metadata": {},
   "outputs": [
    {
     "name": "stdout",
     "output_type": "stream",
     "text": [
      "Enter a set of words  guard game garage gloves\n",
      "Nearest word for guard from set of legal words is garden\n",
      "Nearest word for game from set of legal words is games\n",
      "garage Found in my dictionary\n",
      "Nearest word for gloves from set of legal words is globe\n"
     ]
    }
   ],
   "source": [
    "my_dict=['golf','gold','government','glass','garage','games','greetings','garden','generator','gravity','graphics',\n",
    "         'great','globe','guide','gulf']\n",
    "\n",
    "k=input('Enter a set of words  ').split()\n",
    "for s in k:\n",
    "    if s in my_dict:\n",
    "        print('{} Found in my dictionary'.format(s))\n",
    "    else:\n",
    "        ans=nearest_words(s,my_dict)\n",
    "        print('Nearest word for {} from set of legal words is {}'.format(s,ans))"
   ]
  },
  {
   "cell_type": "code",
   "execution_count": 11,
   "metadata": {},
   "outputs": [
    {
     "name": "stdout",
     "output_type": "stream",
     "text": [
      "The specifications for usage of sympy:\n",
      "\t& -> AND \n",
      "\t| -> OR\n",
      "\t~ -> NOT \n",
      "\t(>>) ->implies\n",
      "\tEquivalent(a,b) ->Bi-implication\n"
     ]
    },
    {
     "data": {
      "text/latex": [
       "$\\displaystyle z \\vee \\left(x \\wedge y\\right)$"
      ],
      "text/plain": [
       "z | (x & y)"
      ]
     },
     "execution_count": 11,
     "metadata": {},
     "output_type": "execute_result"
    }
   ],
   "source": [
    "#Question6 using inbulit libraries\n",
    "\n",
    "from sympy import *\n",
    "print(\"The specifications for usage of sympy:\\n\\t& -> AND \\n\\t| -> OR\\n\\t~ -> NOT \\n\\t(>>) ->\\\n",
    "implies\\n\\tEquivalent(a,b) ->Bi-implication\")\n",
    "x, y, z = symbols('x y z')\n",
    "\n",
    "x&y|z"
   ]
  },
  {
   "cell_type": "code",
   "execution_count": 10,
   "metadata": {},
   "outputs": [
    {
     "data": {
      "text/latex": [
       "$\\displaystyle \\text{True}$"
      ],
      "text/plain": [
       "True"
      ]
     },
     "execution_count": 10,
     "metadata": {},
     "output_type": "execute_result"
    }
   ],
   "source": [
    "(x&y|z&(~z>>x)).subs({x: True, y: True, z: False})"
   ]
  },
  {
   "cell_type": "code",
   "execution_count": 13,
   "metadata": {},
   "outputs": [
    {
     "name": "stdout",
     "output_type": "stream",
     "text": [
      "The specifications for usage are:\n",
      "\t& -> AND \n",
      "\t| -> OR\n",
      "\t~ -> NOT \n",
      "\t > -> implies\n",
      "\t = (Ex: a=b)->Bi-implication\n",
      "allowed symbols are a-z\n",
      "Enter the expresion to be evaluated (x>y)&(x>z)|(x|(~z&y))\n",
      "Valid expression (x>y)&(x>z)|(x|(~z&y))\n"
     ]
    }
   ],
   "source": [
    "#Ques 6 to check if valid based on braces and precedence\n",
    "prop_dict=['>','=','&','|',]\n",
    "\n",
    "def machine_state(curr_st,ip):\n",
    "    global count\n",
    "    global pred\n",
    "    if count<0:\n",
    "        print(\"Invalid!!\")\n",
    "        return -1\n",
    "    else:\n",
    "        if curr_st==0:\n",
    "            if ip=='(':\n",
    "                count+=1\n",
    "                pred=-1\n",
    "                return 0\n",
    "            elif ip=='~' and count>1:\n",
    "                return 1\n",
    "            elif ip.isalpha():\n",
    "                return 2\n",
    "            else:\n",
    "                return -1\n",
    "        elif curr_st==1:\n",
    "            if ip.isalpha():\n",
    "                return 2\n",
    "            else:\n",
    "                return -1\n",
    "        elif curr_st==2:\n",
    "            if ip==')':\n",
    "                count-=1\n",
    "                pred=-1\n",
    "                return 4\n",
    "            elif ip in prop_dict and(pred==-1 or pred==prop_dict.index(ip)):\n",
    "                pred=prop_dict.index(ip)\n",
    "                return 3\n",
    "            else:\n",
    "                return -1\n",
    "        elif curr_st==3:\n",
    "            if ip=='~':\n",
    "                return 3\n",
    "            elif ip=='(':\n",
    "                pred=-1\n",
    "                count+=1\n",
    "                return 0\n",
    "            elif ip.isalpha():\n",
    "                return 2\n",
    "            else:\n",
    "                return -1\n",
    "        elif curr_st==4:\n",
    "            if ip==')':\n",
    "                count-=1\n",
    "                pred=-1\n",
    "                return 4\n",
    "            elif ip in prop_dict and(pred==-1 or pred==prop_dict.index(ip)):\n",
    "                pred=prop_dict.index(ip)\n",
    "                return 3\n",
    "            else:\n",
    "                return -1\n",
    "\n",
    "s=\"The specifications for usage are:\\n\\t& -> AND \\n\\t| -> OR\\n\\t~ -> NOT \\n\\t > -> implies\\n\\t = (Ex: a=b)->Bi-implication\\n\"\n",
    "k=input(\"{}allowed symbols are a-z\\nEnter the expresion to be evaluated \".format(s))\n",
    "st=0\n",
    "k='('+k+')'\n",
    "count=0\n",
    "pred=-1\n",
    "for ch in k:\n",
    "    st=machine_state(st,ch)\n",
    "    if count<0:\n",
    "        print(\"Invalid!!\")\n",
    "        break\n",
    "    if st==-1:\n",
    "        print('Invalid expression')\n",
    "        break\n",
    "\n",
    "if count==0:\n",
    "    print(\"Valid expression\",k[1:-1])"
   ]
  },
  {
   "cell_type": "code",
   "execution_count": 11,
   "metadata": {},
   "outputs": [
    {
     "name": "stdout",
     "output_type": "stream",
     "text": [
      "Enter a valid probabiltiy values for 1 to 1 transition:0.2\n",
      "Enter a valid probabiltiy values for 1 to 2 transition:0.3\n",
      "Enter a valid probabiltiy values for 1 to 3 transition:0.5\n",
      "Enter a valid probabiltiy values for 2 to 1 transition:0.4\n",
      "Enter a valid probabiltiy values for 2 to 2 transition:0.2\n",
      "Enter a valid probabiltiy values for 2 to 3 transition:0.4\n",
      "Enter a valid probabiltiy values for 3 to 1 transition:0.1\n",
      "Enter a valid probabiltiy values for 3 to 2 transition:0.7\n",
      "Enter a valid probabiltiy values for 3 to 3 transition:0.2\n",
      "Enter the initial state:1\n",
      "Converged after 10 iterations and with probabilities [0.24489802 0.40136143 0.35374055]\n"
     ]
    }
   ],
   "source": [
    "#Ques 7\n",
    "## Markov System\n",
    "import numpy as np\n",
    "\n",
    "count=0\n",
    "def converg_prob(st, v, start_st):\n",
    "    k=np.array(st)\n",
    "    k[start_st-1]=1\n",
    "    global count\n",
    "    converg_limit=10**-5\n",
    "    for i in range(10):\n",
    "        if i>0:\n",
    "            sum=0\n",
    "            for p in prev-k:\n",
    "                if p<converg_limit:\n",
    "                    sum+=1\n",
    "            if sum==n:\n",
    "                break\n",
    "        prev=k\n",
    "        k=k.dot(v)\n",
    "        count+=1\n",
    "    return k\n",
    "n=3\n",
    "system=\"Valid\"\n",
    "st=[]\n",
    "v=[]\n",
    "for i in range(n):\n",
    "    if system==\"Invalid\":\n",
    "        break\n",
    "    v.append([])\n",
    "    st.append(0)\n",
    "    ttl=0\n",
    "    for j in range(n):\n",
    "        if ttl>1:\n",
    "            print(\"Invalid input total Outing probability must be 1\")\n",
    "            system=\"Invalid\"\n",
    "        if system==\"Invalid\":\n",
    "            break\n",
    "        trans=float(input(\"Enter a valid probabiltiy values for {} to {} transition:\".format(i+1,j+1)))\n",
    "        v[i].append(trans)\n",
    "        ttl=round(ttl+round(trans,2),2)\n",
    "    if ttl!=1:\n",
    "        print(\"Invalid input total Outgoing probability must be 1\")\n",
    "        system=\"Invalid\"\n",
    "        \n",
    "if system==\"Valid\":   \n",
    "    start_st=int(input(\"Enter the initial state:\"))\n",
    "    k=converg_prob(st, v, start_st)\n",
    "\n",
    "    print(\"Converged after {} iterations and with probabilities {}\".format(count,k))\n",
    "    "
   ]
  },
  {
   "cell_type": "code",
   "execution_count": 4,
   "metadata": {},
   "outputs": [
    {
     "name": "stdout",
     "output_type": "stream",
     "text": [
      "Enter the no of state present in the Transition machine:2\n",
      "The states in transisiton machine are : [0, 1] \n",
      "\n",
      "Enter next state from state 0 with input a: \n",
      "0\n",
      "Enter next state from state 0 with input b: \n",
      "1\n",
      "Enter next state from state 0 with input c: \n",
      "1\n",
      "Enter next state from state 1 with input a: \n",
      "0\n",
      "Enter next state from state 1 with input b: \n",
      "1\n",
      "Enter next state from state 1 with input c: \n",
      "1\n",
      "Enter inital state of machine0\n",
      "Enter a string using symbols in ['a', 'b', 'c']aabbcbcbabcbb\n",
      "\n",
      "Will reach to 1, for input string aabbcbcbabcbb\n"
     ]
    }
   ],
   "source": [
    "#Ques 8\n",
    "import time\n",
    "import sys\n",
    "\n",
    "def reach_to(v,input_str,ina_state,symb):\n",
    "    curr=ina_state\n",
    "    for val in input_str:\n",
    "        pos=symb.index(val)\n",
    "        nxt=v[curr][pos]\n",
    "        curr=nxt\n",
    "    return curr\n",
    "\n",
    "a=int(input(\"Enter the no of state present in the Transition machine:\"))\n",
    "sts=[i for i in range(0,a)]\n",
    "print(\"The states in transisiton machine are :\",sts,\"\\n\")\n",
    "time.sleep(2)\n",
    "\n",
    "v=[]\n",
    "symb=['a','b','c']\n",
    "for i in range(0,a):\n",
    "    v.append([])\n",
    "    for s in symb:\n",
    "        print(\"Enter next state from state {} with input {}: \".format(i,s))\n",
    "        k=int(input())\n",
    "        if k not in sts:\n",
    "            print(\"Invalid for Deterministic Automata\")\n",
    "            sys.exit()\n",
    "        v[i].append(k)\n",
    "        \n",
    "ina_state=int(input(\"Enter inital state of machine\"))\n",
    "input_str=input(\"Enter a string using symbols in {}\".format(symb))\n",
    "print(\"\\nWill reach to {}, for input string {}\".format(reach_to(v,input_str,ina_state,symb),input_str))"
   ]
  }
 ],
 "metadata": {
  "kernelspec": {
   "display_name": "Python 3",
   "language": "python",
   "name": "python3"
  },
  "language_info": {
   "codemirror_mode": {
    "name": "ipython",
    "version": 3
   },
   "file_extension": ".py",
   "mimetype": "text/x-python",
   "name": "python",
   "nbconvert_exporter": "python",
   "pygments_lexer": "ipython3",
   "version": "3.8.3"
  }
 },
 "nbformat": 4,
 "nbformat_minor": 4
}

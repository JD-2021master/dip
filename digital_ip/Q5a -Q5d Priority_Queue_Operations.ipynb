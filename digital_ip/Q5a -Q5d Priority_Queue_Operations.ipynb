{
 "cells": [
  {
   "cell_type": "markdown",
   "metadata": {},
   "source": [
    "# 5:Priority Queue Operations"
   ]
  },
  {
   "cell_type": "code",
   "execution_count": null,
   "metadata": {},
   "outputs": [],
   "source": [
    "#5a- 5c\n",
    "class PriorityQueue(object):\n",
    "    def __init__(self):\n",
    "        self.queue = []\n",
    "    def __str__(self):\n",
    "        return ' '.join([str(i) for i in self.queue])\n",
    "\n",
    " # for checking if the queue is empty\n",
    "    def isEmpty(self):\n",
    "        return len(self.queue) == 0\n",
    "\n",
    " # insertion in Priority queue\n",
    "    def insert(self, data):\n",
    "        self.queue.append(data)\n",
    "\n",
    " # deletion in Priority queue\n",
    "    def delete(self):\n",
    "        try:\n",
    "            max = 0\n",
    "            for i in range(len(self.queue)):\n",
    "                if self.queue[i] > self.queue[max]:\n",
    "                    max = i\n",
    "                    item = self.queue[max]\n",
    "                    del self.queue[max]\n",
    "                    return item \n",
    "        except IndexError:\n",
    "            print()\n",
    "            exit()\n",
    "\n",
    "    if __name__ == '__main__':\n",
    "        myQueue = PriorityQueue()\n",
    "        myQueue.insert(12)\n",
    "        myQueue.insert(1)\n",
    "        myQueue.insert(14)\n",
    "        myQueue.insert(7)\n",
    "        print(myQueue)\n",
    "        while not myQueue.isEmpty():\n",
    "            print(myQueue.delete())\n"
   ]
  },
  {
   "cell_type": "code",
   "execution_count": 4,
   "metadata": {},
   "outputs": [
    {
     "name": "stdout",
     "output_type": "stream",
     "text": [
      "Item with min priority in queue is\n",
      "43\n"
     ]
    }
   ],
   "source": [
    "#5d\n",
    "import heapq\n",
    "\n",
    "queue = [(5, 13), (1, 43), (3, 6), (2, 26), (4, 33), (6, 64)]\n",
    "heapq.heapify(queue)\n",
    "print(\"Item with min priority in queue is\")\n",
    "print (heapq.heapreplace(queue, (7,1))[1])"
   ]
  }
 ],
 "metadata": {
  "kernelspec": {
   "display_name": "Python 3",
   "language": "python",
   "name": "python3"
  },
  "language_info": {
   "codemirror_mode": {
    "name": "ipython",
    "version": 3
   },
   "file_extension": ".py",
   "mimetype": "text/x-python",
   "name": "python",
   "nbconvert_exporter": "python",
   "pygments_lexer": "ipython3",
   "version": "3.8.3"
  }
 },
 "nbformat": 4,
 "nbformat_minor": 2
}
